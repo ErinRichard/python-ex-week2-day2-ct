{
 "cells": [
  {
   "cell_type": "markdown",
   "metadata": {},
   "source": [
    "# Functions, Scoping, Data Collections 1 & List Comprehensions"
   ]
  },
  {
   "cell_type": "markdown",
   "metadata": {},
   "source": [
    "## Tasks Today:\n",
    "\n",
    "<i>Monday Additions (or, and ... if statements)</i>\n",
    "\n",
    "1) String Manipulation <br>\n",
    " &nbsp;&nbsp;&nbsp;&nbsp; a) strip() <br>\n",
    " &nbsp;&nbsp;&nbsp;&nbsp; b) title() <br>\n",
    "2) Working With Lists <br>\n",
    " &nbsp;&nbsp;&nbsp;&nbsp; a) min() <br>\n",
    " &nbsp;&nbsp;&nbsp;&nbsp; b) max() <br>\n",
    " &nbsp;&nbsp;&nbsp;&nbsp; c) sum() <br>\n",
    " &nbsp;&nbsp;&nbsp;&nbsp; d) sort() <br>\n",
    " &nbsp;&nbsp;&nbsp;&nbsp; e) Copying a List <br>\n",
    " &nbsp;&nbsp;&nbsp;&nbsp; f) 'in' keyword <br>\n",
    " &nbsp;&nbsp;&nbsp;&nbsp; g) 'not in' keyword <br>\n",
    " &nbsp;&nbsp;&nbsp;&nbsp; i) Checking an Empty List <br>\n",
    " &nbsp;&nbsp;&nbsp;&nbsp; j) Removing Instances with a Loop <br>\n",
    "3) List Comprehensions <br>\n",
    "4) Tuples <br>\n",
    " &nbsp;&nbsp;&nbsp;&nbsp; a) sorted() <br>\n",
    "5) Functions <br>\n",
    " &nbsp;&nbsp;&nbsp;&nbsp; a) User-Defined vs. Built-In Functions <br>\n",
    " &nbsp;&nbsp;&nbsp;&nbsp; b) Accepting Parameters <br>\n",
    " &nbsp;&nbsp;&nbsp;&nbsp; c) Default Parameters <br>\n",
    " &nbsp;&nbsp;&nbsp;&nbsp; d) Making an Argument Optional <br>\n",
    " &nbsp;&nbsp;&nbsp;&nbsp; e) Keyword Arguments <br>\n",
    " &nbsp;&nbsp;&nbsp;&nbsp; f) Returning Values <br>\n",
    " &nbsp;&nbsp;&nbsp;&nbsp; g) *args <br>\n",
    " &nbsp;&nbsp;&nbsp;&nbsp; h) Docstring <br>\n",
    " &nbsp;&nbsp;&nbsp;&nbsp; i) Using a User Function in a Loop <br>\n",
    "6) Scope"
   ]
  },
  {
   "cell_type": "markdown",
   "metadata": {},
   "source": [
    "### String Manipulation"
   ]
  },
  {
   "cell_type": "markdown",
   "metadata": {},
   "source": [
    "##### .lstrip()"
   ]
  },
  {
   "cell_type": "code",
   "execution_count": 2,
   "metadata": {},
   "outputs": [
    {
     "name": "stdout",
     "output_type": "stream",
     "text": [
      "Bill Ross\n"
     ]
    }
   ],
   "source": [
    "# string.lstrip()\n",
    "name_bill = '      tha Bill Ross'\n",
    "print(name_bill.lstrip(\" \" \"tha\"))\n"
   ]
  },
  {
   "cell_type": "markdown",
   "metadata": {},
   "source": [
    "##### .rstrip()"
   ]
  },
  {
   "cell_type": "code",
   "execution_count": 6,
   "metadata": {},
   "outputs": [
    {
     "name": "stdout",
     "output_type": "stream",
     "text": [
      "John Smith\n"
     ]
    }
   ],
   "source": [
    "# string.rstrip()\n",
    "name_john = \"John Smith      at\"\n",
    "print(name_john.rstrip(\" \" \"at\"))\n"
   ]
  },
  {
   "cell_type": "markdown",
   "metadata": {},
   "source": [
    "##### .strip()"
   ]
  },
  {
   "cell_type": "code",
   "execution_count": 7,
   "metadata": {},
   "outputs": [
    {
     "name": "stdout",
     "output_type": "stream",
     "text": [
      "Joe Biden\n"
     ]
    }
   ],
   "source": [
    "# string.strip()\n",
    "president = \"     Joe Biden    rl\"\n",
    "print(president.strip(\" \" \"rl\"))\n"
   ]
  },
  {
   "cell_type": "markdown",
   "metadata": {},
   "source": [
    "##### .title()"
   ]
  },
  {
   "cell_type": "code",
   "execution_count": 8,
   "metadata": {},
   "outputs": [
    {
     "name": "stdout",
     "output_type": "stream",
     "text": [
      "Kevin Durant\n"
     ]
    }
   ],
   "source": [
    "# string.title()\n",
    "nba_star = \"kevin durant\"\n",
    "print(nba_star.title())"
   ]
  },
  {
   "cell_type": "markdown",
   "metadata": {},
   "source": [
    "### String Exercise <br>\n",
    "<p>Strip all white space and capitalize every name in the list given</p>"
   ]
  },
  {
   "cell_type": "code",
   "execution_count": 34,
   "metadata": {},
   "outputs": [
    {
     "name": "stdout",
     "output_type": "stream",
     "text": [
      "['Connor', 'Max', 'Evan', 'Jordan']\n"
     ]
    }
   ],
   "source": [
    "names = ['    coNNor', 'max', ' EVan ', 'JORDAN']\n",
    "# HINT: You will need to use a for loop for iteration\n",
    "\n",
    "# My Solution:\n",
    "names_cap = []\n",
    "for name in names:\n",
    "    names_cap.append(name.title().strip())\n",
    "\n",
    "print(names_cap)\n",
    "\n",
    "\n",
    "# Why doesn't this work?\n",
    "# names_cap = []\n",
    "# for name in names:\n",
    "#     names_cap.append(name.title())\n",
    "#     names_cap.append(name.strip())\n",
    "\n",
    "# print(names_cap)\n",
    "\n",
    "\n",
    "# Darin solution:\n",
    "\n",
    "# new_names = []\n",
    "# for name in names:\n",
    "#     name = name.strip().title()\n",
    "#     new_names.append(name)\n",
    "\n",
    "# print(new_names)\n"
   ]
  },
  {
   "cell_type": "markdown",
   "metadata": {},
   "source": [
    "### Working With Lists"
   ]
  },
  {
   "cell_type": "markdown",
   "metadata": {},
   "source": [
    "##### min()"
   ]
  },
  {
   "cell_type": "code",
   "execution_count": 31,
   "metadata": {},
   "outputs": [
    {
     "name": "stdout",
     "output_type": "stream",
     "text": [
      "2\n"
     ]
    }
   ],
   "source": [
    "# min(list)\n",
    "numbers = [4,2,97,54,16]\n",
    "\n",
    "print(min(numbers))"
   ]
  },
  {
   "cell_type": "markdown",
   "metadata": {},
   "source": [
    "##### max()"
   ]
  },
  {
   "cell_type": "code",
   "execution_count": 32,
   "metadata": {},
   "outputs": [
    {
     "name": "stdout",
     "output_type": "stream",
     "text": [
      "97\n"
     ]
    }
   ],
   "source": [
    "# max(list)\n",
    "\n",
    "print(max(numbers))\n"
   ]
  },
  {
   "cell_type": "markdown",
   "metadata": {},
   "source": [
    "##### sum()"
   ]
  },
  {
   "cell_type": "code",
   "execution_count": 35,
   "metadata": {},
   "outputs": [
    {
     "name": "stdout",
     "output_type": "stream",
     "text": [
      "173\n"
     ]
    }
   ],
   "source": [
    "# sum(list)\n",
    "\n",
    "print(sum(numbers))"
   ]
  },
  {
   "cell_type": "markdown",
   "metadata": {},
   "source": [
    "##### sorted()"
   ]
  },
  {
   "cell_type": "code",
   "execution_count": 37,
   "metadata": {},
   "outputs": [
    {
     "name": "stdout",
     "output_type": "stream",
     "text": [
      "[4, 2, 97, 54, 16]\n",
      "[2, 4, 16, 54, 97]\n",
      "\n",
      " [4, 2, 97, 54, 16]\n"
     ]
    }
   ],
   "source": [
    "# sorted(list)\n",
    "print(numbers)\n",
    "\n",
    "# We will sort here...\n",
    "sorted_numbers = sorted(numbers)\n",
    "\n",
    "print(sorted_numbers)\n",
    "\n",
    "print('\\n', numbers)\n"
   ]
  },
  {
   "cell_type": "markdown",
   "metadata": {},
   "source": [
    "##### .sort() <br>\n",
    "<p>Difference between sort and sorted, is that sorted doesn't change original list it returns a copy, while .sort changes the original list</p>"
   ]
  },
  {
   "cell_type": "code",
   "execution_count": 38,
   "metadata": {},
   "outputs": [
    {
     "name": "stdout",
     "output_type": "stream",
     "text": [
      "BEFORE the sort: [4, 2, 97, 54, 16]\n",
      "None\n",
      "AFTER the sort: [2, 4, 16, 54, 97]\n"
     ]
    }
   ],
   "source": [
    "# list.sort()\n",
    "\n",
    "print(f'BEFORE the sort: {numbers}')\n",
    "\n",
    "print(numbers.sort())\n",
    "\n",
    "print(f'AFTER the sort: {numbers}')\n",
    "\n",
    "\n",
    "# use sorted when you don't want to alter original list, use .sort() when you want to alter original list"
   ]
  },
  {
   "cell_type": "markdown",
   "metadata": {},
   "source": [
    "##### Copying a List"
   ]
  },
  {
   "cell_type": "code",
   "execution_count": 39,
   "metadata": {},
   "outputs": [
    {
     "name": "stdout",
     "output_type": "stream",
     "text": [
      "[2, 4, 16, 54, 97]\n",
      "[2, 4, 16, 54, 97]\n"
     ]
    }
   ],
   "source": [
    "# [:] copies a list, doesn't alter original\n",
    "list_1 = numbers[:]\n",
    "\n",
    "print(list_1)\n",
    "print(numbers)"
   ]
  },
  {
   "cell_type": "markdown",
   "metadata": {},
   "source": [
    "##### 'in' keyword"
   ]
  },
  {
   "cell_type": "code",
   "execution_count": 40,
   "metadata": {},
   "outputs": [
    {
     "name": "stdout",
     "output_type": "stream",
     "text": [
      "Coding Temple Instructor\n"
     ]
    }
   ],
   "source": [
    "ct_teachers = ['Joel', 'Derek', 'Brian', 'Sam', 'Nate', 'Terrell', 'Kevin']\n",
    "\n",
    "if 'Derek' in ct_teachers:\n",
    "    print('Coding Temple Instructor')\n",
    "else:\n",
    "    print('Not an Instructor')"
   ]
  },
  {
   "cell_type": "markdown",
   "metadata": {},
   "source": [
    "##### 'not in' keyword"
   ]
  },
  {
   "cell_type": "code",
   "execution_count": 41,
   "metadata": {},
   "outputs": [
    {
     "name": "stdout",
     "output_type": "stream",
     "text": [
      "Not a CT Instructor\n"
     ]
    }
   ],
   "source": [
    "if 'Zack' not in ct_teachers:\n",
    "    print('Not a CT Instructor')"
   ]
  },
  {
   "cell_type": "markdown",
   "metadata": {},
   "source": [
    "##### Checking an Empty List"
   ]
  },
  {
   "cell_type": "code",
   "execution_count": null,
   "metadata": {},
   "outputs": [],
   "source": [
    "# if l_1: or if l_1 = []\n",
    "l_2 = []\n",
    "\n",
    "if l_2 == []:\n",
    "    print('List is empty')"
   ]
  },
  {
   "cell_type": "markdown",
   "metadata": {},
   "source": [
    "##### Removing Instances with a Loop"
   ]
  },
  {
   "cell_type": "code",
   "execution_count": 45,
   "metadata": {},
   "outputs": [
    {
     "name": "stdout",
     "output_type": "stream",
     "text": [
      "['Connor', 'Joel', 'Max', 'Evan', 'Rob', 'Evan']\n",
      "['Connor', 'Joel', 'Max', 'Rob']\n",
      "['Connor', 'Joel', 'Max', 'Rob']\n"
     ]
    }
   ],
   "source": [
    "# while, remove\n",
    "\n",
    "names = ['Connor', 'Joel', 'Max', 'Evan', 'Rob', 'Evan']\n",
    "\n",
    "print(names)\n",
    "\n",
    "\n",
    "# While Version (while Evan is present in names)\n",
    "while 'Evan' in names:\n",
    "    names.remove('Evan')\n",
    "print(names)\n",
    "\n",
    "\n",
    "\n",
    "# For Version\n",
    "for name in names:\n",
    "    if name == 'Evan':\n",
    "        names.remove('Evan')\n",
    "print(names)"
   ]
  },
  {
   "cell_type": "markdown",
   "metadata": {},
   "source": [
    "### List Exercise <br>\n",
    "<p>Remove all duplicates<br><b>Extra: Create a program that will remove any duplicates from a given list</b></p>"
   ]
  },
  {
   "cell_type": "code",
   "execution_count": 92,
   "metadata": {},
   "outputs": [
    {
     "name": "stdout",
     "output_type": "stream",
     "text": [
      "['connor', 'bob', 'evan', 'max', 2, 3, 4, 'kevin']\n",
      "['Connor', 'Bob', 'Evan', 'Max', 2, 3, 4, 'Kevin']\n",
      "['Connor', 'Bob', 'Evan', 'Max', 2, 3, 4, 'Kevin']\n"
     ]
    }
   ],
   "source": [
    "names = ['connor', 'connor', 'bob', 'connor', 'evan', 'max', 'evan', 2, 2, 2, 3, 3, 4, 'bob', 'kevin']\n",
    "# Hint 1: You will need an append\n",
    "# Hint 2: Using an empty list will make life easier\n",
    "\n",
    "# My solution \n",
    "# Hadn't figured out title case yet - need to specify type because the list contains both str and digits:\n",
    "deduped = []\n",
    "for name in names:\n",
    "    if name not in deduped:\n",
    "        deduped.append(name)\n",
    "        \n",
    "print(deduped)\n",
    "\n",
    "\n",
    "# Joel's Solution:\n",
    "names_copy = []\n",
    "\n",
    "for item in names:\n",
    "    if type(item) is str:\n",
    "        item = item.title()\n",
    "        if item not in names_copy:\n",
    "            names_copy.append(item)\n",
    "    if item not in names_copy:\n",
    "        names_copy.append(item)\n",
    "        \n",
    "print(names_copy)\n",
    "\n",
    "\n",
    "# Another option:\n",
    "\n",
    "names_copy = []\n",
    "\n",
    "for item in names:\n",
    "    if type(item) is str:\n",
    "        item = item.title()\n",
    "\n",
    "    if item not in names_copy:\n",
    "        names_copy.append(item)\n",
    "        \n",
    "print(names_copy)"
   ]
  },
  {
   "cell_type": "markdown",
   "metadata": {},
   "source": [
    "### List Comprehensions <br>\n",
    "<p>Creating a quickly generated list to work with<br>*result*  = [*transform*    *iteration*         *filter*     ]</p>"
   ]
  },
  {
   "cell_type": "markdown",
   "metadata": {},
   "source": [
    "##### In a list comprehension we have a few pieces:\n",
    "1. The first is the counter/ variable - IN this the variable is x\n",
    "2. then we have a transform for the variable\n",
    "3. The finale part of a list comp is called the condition\n",
    "\n",
    "```python\n",
    "    [variable, transform, condition]\n",
    "```"
   ]
  },
  {
   "cell_type": "code",
   "execution_count": 94,
   "metadata": {},
   "outputs": [
    {
     "name": "stdout",
     "output_type": "stream",
     "text": [
      "[0, 1, 2, 3, 4, 5, 6, 7, 8, 9, 10, 11, 12, 13, 14, 15, 16, 17, 18, 19, 20, 21, 22, 23, 24, 25, 26, 27, 28, 29, 30, 31, 32, 33, 34, 35, 36, 37, 38, 39, 40, 41, 42, 43, 44, 45, 46, 47, 48, 49]\n",
      "\n",
      "\n",
      "[0, 1, 2, 3, 4, 5, 6, 7, 8, 9, 10, 11, 12, 13, 14, 15, 16, 17, 18, 19, 20, 21, 22, 23, 24, 25, 26, 27, 28, 29, 30, 31, 32, 33, 34, 35, 36, 37, 38, 39, 40, 41, 42, 43, 44, 45, 46, 47, 48, 49]\n"
     ]
    }
   ],
   "source": [
    "# number comprehension\n",
    "\n",
    "# With a regular for loop\n",
    "\n",
    "nums = []\n",
    "\n",
    "for i in range(50):\n",
    "    nums.append(i)\n",
    "print(nums)\n",
    "\n",
    "\n",
    "# IN a list comprehension we have a few pieces:\n",
    "# The first is the counter/ variable - IN this the variable is x\n",
    "# Then we have a transform for the variable \n",
    "# The final part (if we have one) of a list comp is called the condition\n",
    "#[variable, transform, condition]\n",
    "\n",
    "\n",
    "print('\\n')\n",
    "\n",
    "# List Comprehension Syntax\n",
    "nums_comp = [x for x in range(50)]\n",
    "\n",
    "print(nums_comp)\n",
    "\n"
   ]
  },
  {
   "cell_type": "markdown",
   "metadata": {},
   "source": [
    "There are a few benefits to using List comprehensions. The most obvious would be that we now have shorter code to work with instead of using 3+ lines of code in the for loop variant.\n",
    "\n",
    "Another is an added benefit to memory usage. Since the list's memory is allocated first before adding elements to it, we don't have to resize the list once we add elements to it.\n",
    "\n",
    "Lastly, list comprehensions are considered the \"pythonic\" way to write code by the PEP8 standards (Python Style Guide)"
   ]
  },
  {
   "cell_type": "code",
   "execution_count": 97,
   "metadata": {},
   "outputs": [
    {
     "name": "stdout",
     "output_type": "stream",
     "text": [
      "[0, 1, 4, 9, 16, 25, 36, 49, 64, 81]\n",
      "\n",
      "\n",
      "[0, 1, 4, 9, 16, 25, 36, 49, 64, 81]\n"
     ]
    }
   ],
   "source": [
    "# square number comprehension\n",
    "\n",
    "# For Loop version:\n",
    "squares_reg = []\n",
    "\n",
    "for x in range(10):\n",
    "    squares_reg.append(x ** 2)\n",
    "print(squares_reg)\n",
    "\n",
    "\n",
    "# List Comprehension Version:\n",
    "squares_comp = [x**2 for x in range(10)]\n",
    "\n",
    "print('\\n')\n",
    "print(squares_comp)"
   ]
  },
  {
   "cell_type": "code",
   "execution_count": 101,
   "metadata": {},
   "outputs": [
    {
     "name": "stdout",
     "output_type": "stream",
     "text": [
      "['C', 'M', 'E', 'R']\n",
      "\n",
      "\n",
      "['C', 'M', 'E', 'R']\n"
     ]
    }
   ],
   "source": [
    "# string comprehension\n",
    "str_names = ['Connor', 'Max', 'Evan', 'Rob']\n",
    "\n",
    "\n",
    "# For Loop Version:\n",
    "# get the first letter of each name\n",
    "first_letters = []\n",
    "\n",
    "for name in str_names:\n",
    "    first_letters.append(name[0])\n",
    "\n",
    "print(first_letters)\n",
    "\n",
    "\n",
    "# List Comprehension Version:\n",
    "first_letter_comp = [name[0] for name in str_names]\n",
    "\n",
    "print('\\n')\n",
    "\n",
    "print(first_letter_comp)\n",
    "\n",
    "\n"
   ]
  },
  {
   "cell_type": "code",
   "execution_count": 103,
   "metadata": {},
   "outputs": [
    {
     "name": "stdout",
     "output_type": "stream",
     "text": [
      "['Connor']\n",
      "\n",
      "\n",
      "['Connor']\n"
     ]
    }
   ],
   "source": [
    "# For Loop version\n",
    "c_names = []\n",
    "\n",
    "for first_name in str_names:\n",
    "    if first_name[0] == 'C':\n",
    "        c_names.append(first_name)\n",
    "\n",
    "print(c_names)\n",
    "\n",
    "\n",
    "# List comprehension version\n",
    "# Varaiable HAS to be the same name as the transform in the for loop (i.e. first_name below)\n",
    "c_names_comp = [first_name for first_name in str_names if first_name[0] == 'C']\n",
    "\n",
    "print('\\n')\n",
    "print(c_names_comp)\n"
   ]
  },
  {
   "cell_type": "code",
   "execution_count": null,
   "metadata": {},
   "outputs": [],
   "source": []
  },
  {
   "cell_type": "markdown",
   "metadata": {},
   "source": [
    "### Tuples <br>\n",
    "<p><b>Defined as an immutable list</b></p><br>Seperated by commas using parenthesis"
   ]
  },
  {
   "cell_type": "code",
   "execution_count": 109,
   "metadata": {},
   "outputs": [
    {
     "name": "stdout",
     "output_type": "stream",
     "text": [
      "<class 'tuple'>\n",
      "<class 'tuple'>\n",
      "1\n",
      "(1,)\n",
      "(1, 2)\n",
      "3\n",
      "\n",
      " 1\n",
      "\n",
      " 2\n",
      "\n",
      " 3\n"
     ]
    }
   ],
   "source": [
    "tup_1 = 1,2,3 # Create a tuple without parens\n",
    "tup_2 = (1,2,3) # Create a tuple WITH parens\n",
    "\n",
    "print(type(tup_1))\n",
    "print(type(tup_2))\n",
    "\n",
    "# Indexing a Tuple\n",
    "print(tup_1[0])\n",
    "\n",
    "# Slicing a Tuple (includes commas)\n",
    "print(tup_1[0:1]) \n",
    "print(tup_1[0:2])\n",
    "\n",
    "# Length check on a tuple\n",
    "print(len(tup_2))\n",
    "\n",
    "# Looping over tuple \n",
    "for number in tup_2:\n",
    "    print('\\n', number)"
   ]
  },
  {
   "cell_type": "markdown",
   "metadata": {},
   "source": [
    "##### sorted()"
   ]
  },
  {
   "cell_type": "code",
   "execution_count": 111,
   "metadata": {},
   "outputs": [
    {
     "name": "stdout",
     "output_type": "stream",
     "text": [
      "<class 'list'>\n",
      "[1, 3, 5, 9, 20, 45]\n",
      "<class 'tuple'>\n",
      "(1, 3, 5, 9, 20, 45)\n"
     ]
    }
   ],
   "source": [
    "tup_3 = (20,5,1,3,9,45)\n",
    "\n",
    "sorted_tup = sorted(tup_3)\n",
    "\n",
    "print(type(sorted_tup))\n",
    "print(sorted_tup)\n",
    "\n",
    "\n",
    "# Create a new tuple from the sorted list\n",
    "new_tup = tuple(sorted_tup)\n",
    "\n",
    "print(type(new_tup))\n",
    "print(new_tup)"
   ]
  },
  {
   "cell_type": "markdown",
   "metadata": {},
   "source": [
    "##### Adding values to a Tuple"
   ]
  },
  {
   "cell_type": "code",
   "execution_count": 115,
   "metadata": {},
   "outputs": [
    {
     "name": "stdout",
     "output_type": "stream",
     "text": [
      "(1, 3, 5, 9, 20, 45, 50, 50)\n",
      "(1, 3, 5, 9, 20, 45, 50, 50, 50)\n"
     ]
    }
   ],
   "source": [
    "print(new_tup)\n",
    "\n",
    "new_tup = new_tup + (50,)\n",
    "\n",
    "print(new_tup)\n",
    "\n",
    "# This doesn't work. Results in TypeError: 'tuple' object does not support item assignment\n",
    "# new_tup[6] = 55"
   ]
  },
  {
   "cell_type": "markdown",
   "metadata": {},
   "source": [
    "## Functions"
   ]
  },
  {
   "cell_type": "markdown",
   "metadata": {},
   "source": [
    "##### User-Defined vs. Built-In Functions"
   ]
  },
  {
   "cell_type": "code",
   "execution_count": 119,
   "metadata": {},
   "outputs": [
    {
     "name": "stdout",
     "output_type": "stream",
     "text": [
      "Hello World\n"
     ]
    },
    {
     "data": {
      "text/plain": [
       "3"
      ]
     },
     "execution_count": 119,
     "metadata": {},
     "output_type": "execute_result"
    }
   ],
   "source": [
    "# Usually User-Defined Functions are black and Built-In Functions are green \n",
    "#(at least in Jupyter Notebook - probably different colors in editor?)\n",
    "\n",
    "# User-Defined Function\n",
    "def sayHello():\n",
    "    return 'Hello World'\n",
    "\n",
    "print(sayHello())\n",
    "\n",
    "# Built-In Functions\n",
    "len([1,2,3])"
   ]
  },
  {
   "cell_type": "markdown",
   "metadata": {},
   "source": [
    "##### Accepting Parameters"
   ]
  },
  {
   "cell_type": "code",
   "execution_count": 124,
   "metadata": {},
   "outputs": [
    {
     "data": {
      "text/plain": [
       "'Hello Erin Richard'"
      ]
     },
     "execution_count": 124,
     "metadata": {},
     "output_type": "execute_result"
    }
   ],
   "source": [
    "# Accept a parameter by putting it in the parens\n",
    "# Taking out comma in return statement below is ok I think - results in Erin Richard rather than Erin, Richard\n",
    "\n",
    "def printFullName(first_name, last_name):\n",
    "    return f'Hello {first_name.title()}, {last_name.title()}'\n",
    "\n",
    "printFullName('erin', 'richard')"
   ]
  },
  {
   "cell_type": "markdown",
   "metadata": {},
   "source": [
    "##### Default Parameters"
   ]
  },
  {
   "cell_type": "code",
   "execution_count": 129,
   "metadata": {},
   "outputs": [
    {
     "name": "stdout",
     "output_type": "stream",
     "text": [
      "\n",
      "\n",
      "The name is....Richard...Erin Richard\n"
     ]
    }
   ],
   "source": [
    "def printAgentName(first_name, last_name = 'Bond'):\n",
    "    return f'The name is....{last_name}...{first_name} {last_name}'\n",
    "\n",
    "printAgentName('James') # Only need to specify first_name because last_name is already defined\n",
    "\n",
    "# This overwrite the above\n",
    "# print('\\n')\n",
    "# print(printAgentName('Erin', 'Richard'))"
   ]
  },
  {
   "cell_type": "markdown",
   "metadata": {},
   "source": [
    "##### Making an Argument Optional"
   ]
  },
  {
   "cell_type": "code",
   "execution_count": 131,
   "metadata": {},
   "outputs": [
    {
     "data": {
      "text/plain": [
       "'Hello Mr.  Ed'"
      ]
     },
     "execution_count": 131,
     "metadata": {},
     "output_type": "execute_result"
    }
   ],
   "source": [
    "def printHorseName(first, middle = '', last = 'Ed'):\n",
    "    return f'Hello {first} {middle} {last}'\n",
    "\n",
    "printHorseName('Mr.')"
   ]
  },
  {
   "cell_type": "markdown",
   "metadata": {},
   "source": [
    "##### Keyword Arguments"
   ]
  },
  {
   "cell_type": "code",
   "execution_count": 132,
   "metadata": {},
   "outputs": [
    {
     "data": {
      "text/plain": [
       "'IronMan and the super power is: Flying'"
      ]
     },
     "execution_count": 132,
     "metadata": {},
     "output_type": "execute_result"
    }
   ],
   "source": [
    "# last_name='Max', first_name='Smith' in the function call\n",
    "\n",
    "# see above\n",
    "\n",
    "def printSuperHero(name, power = 'Flying'):\n",
    "    return f'{name} and the super power is: {power}'\n",
    "\n",
    "printSuperHero('IronMan')"
   ]
  },
  {
   "cell_type": "markdown",
   "metadata": {},
   "source": [
    "# Creating a start, stop, step function"
   ]
  },
  {
   "cell_type": "code",
   "execution_count": 133,
   "metadata": {},
   "outputs": [
    {
     "name": "stdout",
     "output_type": "stream",
     "text": [
      "0\n",
      "1\n",
      "2\n",
      "3\n",
      "4\n",
      "5\n",
      "6\n",
      "7\n",
      "8\n",
      "9\n",
      "10\n",
      "11\n",
      "12\n",
      "13\n",
      "14\n",
      "15\n",
      "16\n",
      "17\n",
      "18\n",
      "19\n"
     ]
    }
   ],
   "source": [
    "# Start point is always 0\n",
    "# Going up in increments of 1\n",
    "def my_range(stop, start = 0, step = 1):\n",
    "    for i in range(start,stop, step):\n",
    "        print(i)\n",
    "\n",
    "my_range(20)\n",
    "\n",
    "# for example above, the range looks like: range(0,20,1)"
   ]
  },
  {
   "cell_type": "markdown",
   "metadata": {},
   "source": [
    "##### Returning Values"
   ]
  },
  {
   "cell_type": "code",
   "execution_count": 136,
   "metadata": {},
   "outputs": [
    {
     "name": "stdout",
     "output_type": "stream",
     "text": [
      "7\n"
     ]
    }
   ],
   "source": [
    "def addNums(num1, num2):\n",
    "    return num1 + num2\n",
    "\n",
    "\n",
    "result = addNums(5,2)\n",
    "print(result)"
   ]
  },
  {
   "cell_type": "markdown",
   "metadata": {},
   "source": [
    "*args/**kwargs"
   ]
  },
  {
   "cell_type": "code",
   "execution_count": 144,
   "metadata": {},
   "outputs": [
    {
     "name": "stdout",
     "output_type": "stream",
     "text": [
      "31\n",
      "\n",
      " ('DragonZord', 'vanilla')\n",
      "\n",
      " {'first_name': 'Erin'}\n",
      "DragonZord\n",
      "vanilla\n",
      "Erin\n"
     ]
    }
   ],
   "source": [
    "# This means that we only have to produce num1 in order this to work\n",
    "# But we can also produce args and kwargs and it will still work\n",
    "# single * means Python should treat positionally (*args in the example below is a placeholder for extra parameters if we have them)\n",
    "# double ** means to look for items that have equal sign\n",
    "\n",
    "\n",
    "def printArgs(num1, *args, **kwargs):\n",
    "    print(num1)\n",
    "    \n",
    "    print('\\n', args)\n",
    "    \n",
    "    print('\\n', kwargs)\n",
    "    \n",
    "    # Loop through the args\n",
    "    for arg in args:\n",
    "        print(arg)\n",
    "        \n",
    "    # Loop through the keyword args\n",
    "    for kwarg in kwargs.values():\n",
    "        print(kwarg)\n",
    "    \n",
    "printArgs(31, 'DragonZord', 'vanilla', first_name = 'Erin')\n",
    "    "
   ]
  },
  {
   "cell_type": "markdown",
   "metadata": {},
   "source": [
    "##### Docstring"
   ]
  },
  {
   "cell_type": "code",
   "execution_count": 147,
   "metadata": {},
   "outputs": [
    {
     "name": "stdout",
     "output_type": "stream",
     "text": [
      "George\n",
      "Max\n",
      "Peter\n",
      "Help on function printNames in module __main__:\n",
      "\n",
      "printNames(list_names)\n",
      "    printNames(list_names)\n",
      "    \n",
      "    Function requires a list to be passed as a parameter,\n",
      "    and will print the contents of the list. \n",
      "    Expecting a list of names(strings) to be passed.\n",
      "\n"
     ]
    }
   ],
   "source": [
    "def printNames(list_names):\n",
    "    \"\"\"\n",
    "        printNames(list_names)\n",
    "        \n",
    "        Function requires a list to be passed as a parameter,\n",
    "        and will print the contents of the list. \n",
    "        Expecting a list of names(strings) to be passed.\n",
    "    \"\"\"\n",
    "    \n",
    "    for name in list_names:\n",
    "        print(name)\n",
    "        \n",
    "printNames(['George', 'Max', 'Peter'])\n",
    "help(printNames)"
   ]
  },
  {
   "cell_type": "markdown",
   "metadata": {},
   "source": [
    "##### Using a User Function in a Loop"
   ]
  },
  {
   "cell_type": "code",
   "execution_count": 148,
   "metadata": {},
   "outputs": [
    {
     "name": "stdout",
     "output_type": "stream",
     "text": [
      "What do you want to do?: Buy/ Sell/ QuitBuy\n",
      "Buy\n",
      "What do you want to do?: Buy/ Sell/ QuitSell\n",
      "Sell\n",
      "What do you want to do?: Buy/ Sell/ QuitQuite\n",
      "Quite\n",
      "What do you want to do?: Buy/ Sell/ QuitQuit\n",
      "Quit\n"
     ]
    }
   ],
   "source": [
    "# If return is misssing from below, nothing is returned and function will error on .lower()\n",
    "\n",
    "def getInput():\n",
    "    answer = input('What do you want to do?: Buy/ Sell/ Quit')\n",
    "    print(answer)\n",
    "    return answer\n",
    "\n",
    "while True:\n",
    "    response = getInput()\n",
    "    \n",
    "    if response.lower() == 'quit':\n",
    "        break\n"
   ]
  },
  {
   "cell_type": "markdown",
   "metadata": {},
   "source": [
    "## Function Exercise <br>\n",
    "<p>Write a function that loops through a list of first_names and a list of last_names, combines the two and return a list of full_names</p>"
   ]
  },
  {
   "cell_type": "code",
   "execution_count": 152,
   "metadata": {},
   "outputs": [
    {
     "data": {
      "text/plain": [
       "['John Smith', 'Evan Smith', 'Jordan Williams', 'Max Bell']"
      ]
     },
     "execution_count": 152,
     "metadata": {},
     "output_type": "execute_result"
    }
   ],
   "source": [
    "first_name = ['John', 'Evan', 'Jordan', 'Max']\n",
    "last_name = ['Smith', 'Smith', 'Williams', 'Bell']\n",
    "\n",
    "# Output: ['John Smith', 'Evan Smith', 'Jordan Williams', 'Max Bell']\n",
    "# Example below can loop through both lists at the same time because they are the same length (each has 4 values)\n",
    "# the for loop is looking at the f string\n",
    "\n",
    "def full_name(first_name_list, last_name_list):\n",
    "    full_names = []\n",
    "    \n",
    "    for name in range(len(first_name_list)):\n",
    "        full_names.append(f'{first_name_list[name]} {last_name_list[name]}')\n",
    "    return full_names\n",
    "\n",
    "full_name(first_name, last_name)\n",
    "\n"
   ]
  },
  {
   "cell_type": "markdown",
   "metadata": {},
   "source": [
    "## Scope <br>\n",
    "<p>Scope refers to the ability to access variables, different types of scope include:<br>a) Global<br>b) Function (local)<br>c) Class (local)</p>"
   ]
  },
  {
   "cell_type": "code",
   "execution_count": 155,
   "metadata": {},
   "outputs": [
    {
     "name": "stdout",
     "output_type": "stream",
     "text": [
      "34\n",
      "6\n"
     ]
    }
   ],
   "source": [
    "# placement of declared variables matters\n",
    "# if inside a function, have to call the function in order to use it.\n",
    "# anything outside a function is fair game to use.\n",
    "\n",
    "number = 34 # Globally Scoped Variable\n",
    "\n",
    "def myFunc(num):\n",
    "    num_3 = num # Locally Scoped Functional Variable\n",
    "    return num_3\n",
    "\n",
    "print(number)\n",
    "# print(num_3) -- this doesn't work because it's a variable that has not been defined Globally. Becomes available when you call the function.\n",
    "\n",
    "return_num = myFunc(6)\n",
    "\n",
    "print(return_num)\n",
    "\n"
   ]
  },
  {
   "cell_type": "markdown",
   "metadata": {},
   "source": [
    "# Exercises"
   ]
  },
  {
   "cell_type": "markdown",
   "metadata": {},
   "source": [
    "## Exercise 1 <br>\n",
    "<p>Given a list as a parameter,write a function that returns a list of numbers that are less than ten</b></i></p><br>\n",
    "<p> For example: Say your input parameter to the function is [1,11,14,5,8,9]...Your output should [1,5,8,9]</p>"
   ]
  },
  {
   "cell_type": "code",
   "execution_count": 172,
   "metadata": {},
   "outputs": [
    {
     "name": "stdout",
     "output_type": "stream",
     "text": [
      "Original List: \n",
      "[1, 11, 14, 5, 8, 9]\n",
      "\n",
      "Numbers Pulled from Original List that are less than 10: \n",
      "[1, 5, 8, 9]\n"
     ]
    }
   ],
   "source": [
    "# Use the following list - [1,11,14,5,8,9]\n",
    "\n",
    "l_1 = [1,11,14,5,8,9]\n",
    "\n",
    "\n",
    "def less_than_ten(l_1):\n",
    "    \"\"\"\n",
    "    less_than_ten(l_1)\n",
    "    \n",
    "    Function accepts a list of numbers,\n",
    "    and returns the numbers from that list that are less than ten.\n",
    "    \"\"\"\n",
    "    \n",
    "    # Create a blank list to append to\n",
    "    under_ten = []\n",
    "    \n",
    "    # Loop through each number in original list. \n",
    "    # If number is less than 10, append the number to new under_ten blank list.\n",
    "    # Return the new under_ten list.\n",
    "    for num in l_1:\n",
    "        if num < 10:\n",
    "            under_ten.append(num)\n",
    "    return under_ten\n",
    "\n",
    "l_1 = [1,11,14,5,8,9]\n",
    "\n",
    "print(\"Original List: \")\n",
    "print(l_1)\n",
    "\n",
    "print(\"\\nNumbers Pulled from Original List that are less than 10: \")\n",
    "print(less_than_ten(l_1))\n",
    "            "
   ]
  },
  {
   "cell_type": "markdown",
   "metadata": {},
   "source": [
    "## Exercise 2 <br>\n",
    "<p>Write a function that takes in two lists and returns the two lists merged together and sorted<br>\n",
    "<b><i>Hint: You can use the .sort() method</i></b></p>"
   ]
  },
  {
   "cell_type": "code",
   "execution_count": 2,
   "metadata": {},
   "outputs": [
    {
     "name": "stdout",
     "output_type": "stream",
     "text": [
      "Original List 1 (l_1): \n",
      "[1, 2, 3, 4, 5, 6]\n",
      "\n",
      "Original List 2 (l_2): \n",
      "[3, 4, 5, 6, 7, 8, 10]\n",
      "\n",
      "Lists 1 and 2 Merged and Sorted -- Deduped:\n",
      "[1, 2, 3, 4, 5, 6, 7, 8, 10]\n",
      "\n",
      "Lists 1 and 2 Merged and Sorted -- Full List (Contains Duplicates): \n"
     ]
    },
    {
     "data": {
      "text/plain": [
       "[1, 2, 3, 3, 4, 4, 5, 5, 6, 6, 7, 7, 8, 8, 10, 10]"
      ]
     },
     "execution_count": 2,
     "metadata": {},
     "output_type": "execute_result"
    }
   ],
   "source": [
    "l_1 = [1,2,3,4,5,6]\n",
    "l_2 = [3,4,5,6,7,8,10]\n",
    "\n",
    "l_1_orig = [1,2,3,4,5,6]\n",
    "l_2_orig = [3,4,5,6,7,8,10]\n",
    "\n",
    "print(\"Original List 1 (l_1): \")\n",
    "print(l_1_orig)\n",
    "\n",
    "print(\"\\nOriginal List 2 (l_2): \")\n",
    "print(l_2_orig)\n",
    "\n",
    "\n",
    "# Deduped-but not a function - don't know yet how to run two functions simultaneusly or one after the other\n",
    "for item in l_2:\n",
    "    if item not in l_1:\n",
    "        l_1.append(item)\n",
    "\n",
    "print(\"\\nLists 1 and 2 Merged and Sorted -- Deduped:\")\n",
    "print(l_1)\n",
    "\n",
    "\n",
    "# Function below results in all values - not deduped. \n",
    "# Order mattered-had to put this function under the for loop above. \n",
    "# When for loop was below this, only one set of results printed (not both deduped and merged_list).\n",
    "def merged_list():\n",
    "    \"\"\"\n",
    "    merged_list()\n",
    "    \n",
    "    Function returns two list of numbers merged together and sorted\n",
    "    \"\"\"\n",
    "    for item in l_2:\n",
    "        l_1.append(item)\n",
    "    return sorted(l_1)\n",
    "\n",
    "print(\"\\nLists 1 and 2 Merged and Sorted -- Full List (Contains Duplicates): \")\n",
    "merged_list()\n",
    "\n",
    "\n",
    "\n",
    "\n",
    "\n",
    "\n",
    "\n",
    "# For ER Reference - this is a longer option that produces same full merged list - but nothing deduped\n",
    "\n",
    "# def full_list(l_1, l_2):\n",
    "#     \"\"\"\n",
    "#     full_list(l_1, l_2)\n",
    "    \n",
    "#     Function accepts two lists of numbers,\n",
    "#     and returns the two lists merged together and sorted.\n",
    "#     \"\"\"\n",
    "    \n",
    "    #Create an empty list to append with individual items from each list\n",
    "#     merged_list = []\n",
    "    \n",
    "    #Append each item from l_1 and l_2 to the new empty merged_list\n",
    "    #Return the sorted merged_list\n",
    "#     for item in l_1:\n",
    "#         merged_list.append(item)\n",
    "#     for value in l_2:\n",
    "#         merged_list.append(value)\n",
    "#     return sorted(merged_list)\n",
    "    \n",
    "# l_1 = [1,2,3,4,5,6]\n",
    "# l_2 = [3,4,5,6,7,8,10]\n",
    "\n",
    "# print(\"Original List 1 (l_1): \")\n",
    "# print(l_1)\n",
    "\n",
    "# print(\"\\nOriginal List 2 (l_2): \")\n",
    "# print(l_2)\n",
    "\n",
    "# print(\"\\nLists 1 and 2 Merged and Sorted -- Full List (Contains Duplicates): \")\n",
    "# print(merged_list())\n",
    "\n"
   ]
  }
 ],
 "metadata": {
  "kernelspec": {
   "display_name": "Python 3",
   "language": "python",
   "name": "python3"
  },
  "language_info": {
   "codemirror_mode": {
    "name": "ipython",
    "version": 3
   },
   "file_extension": ".py",
   "mimetype": "text/x-python",
   "name": "python",
   "nbconvert_exporter": "python",
   "pygments_lexer": "ipython3",
   "version": "3.8.5"
  }
 },
 "nbformat": 4,
 "nbformat_minor": 2
}
